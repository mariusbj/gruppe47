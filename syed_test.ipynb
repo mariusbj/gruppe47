{
 "cells": [
  {
   "cell_type": "code",
   "execution_count": 12,
   "metadata": {},
   "outputs": [],
   "source": [
    "from tensorflow import data as tf_data\n",
    "import tensorflow_datasets as tfds\n",
    "import keras\n",
    "import keras_cv\n",
    "import numpy as np\n",
    "from keras_cv import bounding_box\n",
    "import os\n",
    "from keras_cv import visualization\n",
    "import tqdm\n",
    "import cv2\n",
    "import os"
   ]
  },
  {
   "cell_type": "code",
   "execution_count": 13,
   "metadata": {},
   "outputs": [],
   "source": [
    "BATCH_SIZE = 4\n",
    "\n",
    "class_ids = [\n",
    "    \"Bear\",\n",
    "    \"Brown bear\",\n",
    "    \"Bull\",\n",
    "    \"Canary\",\n",
    "    \"Cattle\",\n",
    "    \"Chicken\",\n",
    "    \"Deer\",\n",
    "    \"Duck\",\n",
    "    \"Eagle\",\n",
    "    \"Fox\",\n",
    "    \"Frog\",\n",
    "    \"Giraffe\",\n",
    "    \"Goat\",\n",
    "    \"Goose\",\n",
    "    \"Hamster\",\n",
    "    \"Hedgehog\",\n",
    "    \"Horse\",\n",
    "    \"Magpie\",\n",
    "    \"Mouse\",\n",
    "    \"Otter\",\n",
    "    \"Owl\",\n",
    "    \"Pig\",\n",
    "    \"Polar bear\",\n",
    "    \"Rabbit\",\n",
    "    \"Raccoon\",\n",
    "    \"Raven\",\n",
    "    \"Sheep\",\n",
    "    \"Snake\",\n",
    "    \"Sparrow\",\n",
    "    \"Squirrel\",\n",
    "    \"Swan\",\n",
    "    \"Woodpecker\"\n",
    "]\n",
    "class_mapping = dict(zip(range(len(class_ids)), class_ids))"
   ]
  },
  {
   "cell_type": "code",
   "execution_count": 14,
   "metadata": {},
   "outputs": [],
   "source": [
    "def read_images_and_labels(dataset_path):\n",
    "    image_paths = []\n",
    "    label_paths = []\n",
    "    \n",
    "    for root, dirs, files in os.walk(dataset_path):\n",
    "        for file in files:\n",
    "            if file.lower().endswith(('.png', '.jpg', '.jpeg')):\n",
    "                image_path = os.path.join(root, file)\n",
    "                label_path = os.path.join(root, \"Label\", os.path.splitext(file)[0] + \".txt\")\n",
    "                \n",
    "                if os.path.exists(label_path):\n",
    "                    image_paths.append(image_path)\n",
    "                    label_paths.append(label_path)\n",
    "    \n",
    "    return image_paths, label_paths\n",
    "\n",
    "def load_image(image_path):\n",
    "    return cv2.imread(image_path)\n",
    "\n",
    "def parse_label(label_path):\n",
    "    with open(label_path, 'r') as f:\n",
    "        lines = f.readlines()\n",
    "        bounding_boxes = []\n",
    "        for line in lines:\n",
    "            parts = line.strip().split()\n",
    "            class_name = parts[0]\n",
    "            xmin, ymin, xmax, ymax = map(float, parts[1:])\n",
    "            bounding_boxes.append([xmin, ymin, xmax, ymax])\n",
    "    return {\"classes\": [class_name] * len(bounding_boxes), \"boxes\": np.array(bounding_boxes)}\n",
    "\n",
    "def visualize_dataset(dataset_path, value_range, rows, cols, bounding_box_format, path):\n",
    "    image_paths, label_paths = read_images_and_labels(dataset_path)\n",
    "    images = [load_image(image_path) for image_path in image_paths]\n",
    "    bounding_boxes = [parse_label(label_path) for label_path in label_paths]\n",
    "    \n",
    "    # Visualize the dataset\n",
    "    visualization.plot_bounding_box_gallery(\n",
    "        images,\n",
    "        value_range=value_range,\n",
    "        rows=rows,\n",
    "        cols=cols,\n",
    "        y_true=bounding_boxes,\n",
    "        scale=5,\n",
    "        font_scale=0.7,\n",
    "        bounding_box_format=bounding_box_format,\n",
    "        class_mapping=None,  # You may need to define class mapping if needed\n",
    "        path=path,\n",
    "    )"
   ]
  },
  {
   "cell_type": "code",
   "execution_count": 15,
   "metadata": {},
   "outputs": [],
   "source": [
    "notebook_path = os.path.abspath(\"syed_test.ipynb\")"
   ]
  },
  {
   "cell_type": "code",
   "execution_count": 16,
   "metadata": {},
   "outputs": [],
   "source": [
    "os.path.join(os.path.dirname(notebook_path), \"frames/116.jpg\")\n",
    "dataset_path = os.path.join(os.path.dirname(notebook_path), \"animals-detection-images-dataset\")\n"
   ]
  },
  {
   "cell_type": "code",
   "execution_count": 17,
   "metadata": {},
   "outputs": [
    {
     "ename": "SyntaxError",
     "evalue": "invalid syntax (3298130111.py, line 1)",
     "output_type": "error",
     "traceback": [
      "\u001b[1;36m  Cell \u001b[1;32mIn[17], line 1\u001b[1;36m\u001b[0m\n\u001b[1;33m    train_ds =\u001b[0m\n\u001b[1;37m               ^\u001b[0m\n\u001b[1;31mSyntaxError\u001b[0m\u001b[1;31m:\u001b[0m invalid syntax\n"
     ]
    }
   ],
   "source": [
    "train_ds = "
   ]
  }
 ],
 "metadata": {
  "kernelspec": {
   "display_name": "Python 3",
   "language": "python",
   "name": "python3"
  },
  "language_info": {
   "codemirror_mode": {
    "name": "ipython",
    "version": 3
   },
   "file_extension": ".py",
   "mimetype": "text/x-python",
   "name": "python",
   "nbconvert_exporter": "python",
   "pygments_lexer": "ipython3",
   "version": "3.11.9"
  }
 },
 "nbformat": 4,
 "nbformat_minor": 2
}
